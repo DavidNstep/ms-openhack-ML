{
 "cells": [
  {
   "cell_type": "code",
   "execution_count": null,
   "metadata": {},
   "outputs": [],
   "source": [
    "from flask import Flask\n",
    "#from keras.models import load_model\n",
    "from flask import request\n",
    "from keras.applications import ResNet50\n",
    "from keras.preprocessing.image import img_to_array\n",
    "from keras.applications import imagenet_utils\n",
    "from PIL import Image\n",
    "import numpy as np\n",
    "import flask\n",
    "import io\n",
    "from keras.models import load_model\n",
    "\n",
    "import cv2\n",
    "\n",
    "app = Flask(__name__)\n",
    "\n",
    "path = \"my_model.h5\"\n",
    "model = load_model(path)\n",
    "\n",
    "size=(128, 128)\n",
    "#global model\n",
    "#model = ResNet50(weights=\"imagenet\")\n",
    "#TODO: Load model file\n",
    "\n",
    "@app.route('/')\n",
    "def hello_world():\n",
    "    return 'Hello, World!'\n",
    "\n",
    "\n",
    "@app.route('/predict', methods=['POST'])\n",
    "def predict():\n",
    "  im = request.files.get('image')\n",
    "  #file = open('testfile','w')\n",
    "  im.save('testfile')\n",
    "  #file.write(im)\n",
    "  print(im)\n",
    "  img = cv2.resize(cv2.imread('testfile'), size)\n",
    "  result = model.predict(np.array([img]))\n",
    "  #print(image = request.files['image'].read())\n",
    "\n",
    "  #image = request.files['file']\n",
    "  #image = Image.open(image)\n",
    "  # transform\n",
    "  #result = model.predict(np.array([image]))\n",
    "  return np.array_str(result)\n",
    "  #return \"success\"\n",
    "\n",
    "app.run(host='0.0.0.0', port=5000)\n"
   ]
  }
 ],
 "metadata": {
  "kernelspec": {
   "display_name": "Python 3",
   "language": "python",
   "name": "python3"
  },
  "language_info": {
   "codemirror_mode": {
    "name": "ipython",
    "version": 3
   },
   "file_extension": ".py",
   "mimetype": "text/x-python",
   "name": "python",
   "nbconvert_exporter": "python",
   "pygments_lexer": "ipython3",
   "version": "3.5.4"
  }
 },
 "nbformat": 4,
 "nbformat_minor": 2
}
